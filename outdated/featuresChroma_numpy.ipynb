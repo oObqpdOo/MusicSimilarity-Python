{
 "cells": [
  {
   "cell_type": "code",
   "execution_count": null,
   "metadata": {},
   "outputs": [],
   "source": [
    "import numpy, scipy, matplotlib.pyplot as plt, sklearn, librosa, urllib, IPython.display\n",
    "import essentia, essentia.standard as ess\n",
    "import numpy as np\n",
    "import librosa.display\n",
    "import signal\n",
    "plt.rcParams['figure.figsize'] = (14,4)"
   ]
  },
  {
   "cell_type": "code",
   "execution_count": null,
   "metadata": {},
   "outputs": [],
   "source": [
    "x, fs = librosa.load('piano_sample.mp3')\n",
    "#x = x[75*fs:fs*105]\n",
    "x = x[1*fs:fs*30]\n",
    "librosa.display.waveplot(x, sr=fs)\n",
    "#source: http://www.theory.physics.ubc.ca/341-current/sweep.html\n",
    "IPython.display.Audio(x, rate=fs)\n"
   ]
  },
  {
   "cell_type": "code",
   "execution_count": null,
   "metadata": {},
   "outputs": [],
   "source": [
    "chroma = librosa.feature.chroma_stft(x, fs)\n",
    "plt.rcParams.update({'font.size': 14})\n",
    "plt.figure(figsize=(10, 4))\n",
    "librosa.display.specshow(chroma, y_axis='chroma', x_axis='time')\n",
    "plt.colorbar()\n",
    "\n",
    "plt.title('Chromagram')\n",
    "plt.tight_layout()"
   ]
  },
  {
   "cell_type": "code",
   "execution_count": null,
   "metadata": {},
   "outputs": [],
   "source": [
    "#original audio signal - extract max chroma key only\n",
    "chroma = librosa.feature.chroma_stft(x, fs)\n",
    "threshold = 300\n",
    "m, n = chroma.shape\n",
    "\n",
    "avg = 0\n",
    "chroma = chroma.transpose()\n",
    "m, n = chroma.shape\n",
    "\n",
    "for j in chroma:\n",
    "    avg = avg + np.sum(j)\n",
    "    \n",
    "avg = avg / m\n",
    "threshold = avg * 2 \n",
    "\n",
    "print(threshold)\n",
    "\n",
    "for i in chroma:\n",
    "    if np.sum(i) < threshold:\n",
    "        ind = np.where(i == np.max(i))\n",
    "        max_val = i[ind]#is always 1!\n",
    "        i[ind] = 0\n",
    "        \n",
    "        ind2 = np.where(i == np.max(i))\n",
    "        i[ind] = 1\n",
    "        \n",
    "        if i[ind2] >= 0.8 * max_val:\n",
    "            i[ind2] = i[ind2]\n",
    "            pass\n",
    "        #low_values_flags = i < 1\n",
    "        low_values_flags = i < 0.8\n",
    "        \n",
    "        i[low_values_flags] = 0\n",
    "    else:\n",
    "        i.fill(0)     \n",
    "        \n",
    "chroma = chroma.transpose()        \n",
    "plt.figure(figsize=(10, 4))\n",
    "librosa.display.specshow(chroma, y_axis='chroma', x_axis='time')\n",
    "plt.colorbar()\n",
    "plt.title('Chromagram')\n",
    "plt.tight_layout()"
   ]
  },
  {
   "cell_type": "code",
   "execution_count": null,
   "metadata": {
    "scrolled": true
   },
   "outputs": [],
   "source": [
    "#beat estimation for unfiltered audio\n",
    "\n",
    "tempo, beats = librosa.beat.beat_track(x, fs)#\n",
    "print(tempo)\n",
    "onset_env = librosa.onset.onset_strength(x, fs, aggregate=np.median)\n",
    "tempo, beats = librosa.beat.beat_track(onset_envelope=onset_env,sr=fs)\n",
    "\n",
    "import matplotlib.pyplot as plt\n",
    "hop_length = 512\n",
    "plt.figure(figsize=(8, 4))\n",
    "times = librosa.frames_to_time(np.arange(len(onset_env)), sr=fs, hop_length=hop_length)\n",
    "#plt.plot(times, librosa.util.normalize(onset_env), label='Onset strength')\n",
    "#plt.vlines(times[beats], 0, 1, alpha=0.5, color='r', linestyle='--', label='Beats')\n",
    "#plt.legend(frameon=True, framealpha=0.75)\n",
    "# Limit the plot to a 10-second window\n",
    "#plt.xlim(0, 10)\n",
    "#plt.gca().xaxis.set_major_formatter(librosa.display.TimeFormatter())\n",
    "#plt.tight_layout()\n",
    "\n",
    "plt.figure(figsize=(10, 4))\n",
    "librosa.display.specshow(chroma, y_axis='chroma', x_axis='time')\n",
    "plt.vlines(times[beats], 0, 12, alpha=0.5, color='r', linestyle='--', label='Beats')\n",
    "plt.colorbar()\n",
    "plt.title('Chromagram')\n",
    "plt.tight_layout()"
   ]
  },
  {
   "cell_type": "code",
   "execution_count": null,
   "metadata": {},
   "outputs": [],
   "source": [
    "chroma = chroma.transpose()        \n",
    "prev_beat = 0\n",
    "act_beat = 0\n",
    "sum_key = np.zeros(12)\n",
    "\n",
    "for i in beats:\n",
    "    act_beat = i\n",
    "    sum_key = sum(chroma[prev_beat:act_beat])\n",
    "    #print(sum_key)\n",
    "    #print(chroma[prev_beat:act_beat])\n",
    "    ind = np.where(sum_key == np.max(sum_key))\n",
    "    \n",
    "    #print(\"debug\")\n",
    "    fill = np.zeros(len(j))\n",
    "    fill[ind] = 1\n",
    "    chroma[prev_beat:act_beat] = fill\n",
    "    #print(chroma[prev_beat:act_beat])\n",
    "    prev_beat = i\n",
    "    #print(\"BEAT\")\n",
    "    \n",
    "chroma = chroma.transpose()  \n",
    "    \n",
    "plt.figure(figsize=(10, 4))\n",
    "librosa.display.specshow(chroma, y_axis='chroma', x_axis='time')\n",
    "plt.vlines(times[beats], 0, 12, alpha=0.5, color='r', linestyle='--', label='Beats')\n",
    "plt.colorbar()\n",
    "plt.title('Chromagram')\n",
    "plt.tight_layout()\n"
   ]
  },
  {
   "cell_type": "code",
   "execution_count": null,
   "metadata": {},
   "outputs": [],
   "source": [
    "chroma = librosa.feature.chroma_stft(x, fs)\n",
    "chroma = chroma.transpose()        \n",
    "prev_beat = 0\n",
    "act_beat = 0\n",
    "sum_key = np.zeros(12)\n",
    "\n",
    "for i in beats:\n",
    "    act_beat = i\n",
    "    sum_key = sum(chroma[prev_beat:act_beat])\n",
    "    #print(sum_key)\n",
    "    #print(chroma[prev_beat:act_beat])\n",
    "    ind = np.where(sum_key == np.max(sum_key))\n",
    "    \n",
    "    #print(\"debug\")\n",
    "    fill = np.zeros(len(j))\n",
    "    fill[ind] = 1\n",
    "    chroma[prev_beat:act_beat] = fill\n",
    "    #print(chroma[prev_beat:act_beat])\n",
    "    prev_beat = i\n",
    "    #print(\"BEAT\")\n",
    "    \n",
    "chroma = chroma.transpose()  \n",
    "    \n",
    "plt.figure(figsize=(10, 4))\n",
    "librosa.display.specshow(chroma, y_axis='chroma', x_axis='time')\n",
    "plt.vlines(times[beats], 0, 12, alpha=0.5, color='r', linestyle='--', label='Beats')\n",
    "plt.colorbar()\n",
    "plt.title('Chromagram')\n",
    "plt.tight_layout()\n"
   ]
  },
  {
   "cell_type": "code",
   "execution_count": null,
   "metadata": {},
   "outputs": [],
   "source": []
  },
  {
   "cell_type": "code",
   "execution_count": null,
   "metadata": {},
   "outputs": [],
   "source": []
  },
  {
   "cell_type": "code",
   "execution_count": null,
   "metadata": {},
   "outputs": [],
   "source": []
  }
 ],
 "metadata": {
  "kernelspec": {
   "display_name": "Python 2",
   "language": "python",
   "name": "python2"
  },
  "language_info": {
   "codemirror_mode": {
    "name": "ipython",
    "version": 2
   },
   "file_extension": ".py",
   "mimetype": "text/x-python",
   "name": "python",
   "nbconvert_exporter": "python",
   "pygments_lexer": "ipython2",
   "version": "2.7.15"
  }
 },
 "nbformat": 4,
 "nbformat_minor": 2
}
